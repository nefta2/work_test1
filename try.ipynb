{
 "cells": [
  {
   "cell_type": "code",
   "execution_count": null,
   "metadata": {},
   "outputs": [],
   "source": [
    "import Table from './components/Table';\n",
    "import React, { useEffect, useState } from 'react';\n",
    "\n",
    "function App() {\n",
    "\tlet [classCar, setClassCar] = useState(null);\n",
    "\n",
    "\tuseEffect(() => {\n",
    "\t\tconst getData = async () => {\n",
    "\t\t\tconst datosFromAPI = await fetchData();\n",
    "\t\t\tsetClassCar(datosFromAPI);\n",
    "\t\t};\n",
    "\n",
    "\t\tgetData();\n",
    "\t}, []);"
   ]
  },
  {
   "cell_type": "code",
   "execution_count": 2,
   "metadata": {},
   "outputs": [
    {
     "ename": "SyntaxError",
     "evalue": "invalid syntax (1512733986.py, line 1)",
     "output_type": "error",
     "traceback": [
      "\u001b[1;36m  Input \u001b[1;32mIn [2]\u001b[1;36m\u001b[0m\n\u001b[1;33m    //Fetch Tasks\u001b[0m\n\u001b[1;37m    ^\u001b[0m\n\u001b[1;31mSyntaxError\u001b[0m\u001b[1;31m:\u001b[0m invalid syntax\n"
     ]
    }
   ],
   "source": [
    "const fetchData = async () => {\n",
    "\t\tconst rest = await fetch('http://127.0.0.1:8000/data_parquet');\n",
    "\t\tconst data = await rest.json();\n",
    "\t\tconsole.log(data);\n",
    "\t\treturn data;\n",
    "\t}"
   ]
  },
  {
   "cell_type": "code",
   "execution_count": null,
   "metadata": {},
   "outputs": [],
   "source": [
    "\n",
    "\treturn (\n",
    "\t\t<div className=\"container\">\n",
    "\t\t\t<Table classes={classCar} />\n",
    "\t\t</div>\n",
    "\t)\n"
   ]
  }
 ],
 "metadata": {
  "kernelspec": {
   "display_name": "Python 3",
   "language": "python",
   "name": "python3"
  },
  "language_info": {
   "codemirror_mode": {
    "name": "ipython",
    "version": 3
   },
   "file_extension": ".py",
   "mimetype": "text/x-python",
   "name": "python",
   "nbconvert_exporter": "python",
   "pygments_lexer": "ipython3",
   "version": "3.9.13"
  }
 },
 "nbformat": 4,
 "nbformat_minor": 2
}
