{
 "cells": [
  {
   "cell_type": "code",
   "execution_count": 54,
   "metadata": {},
   "outputs": [
    {
     "name": "stdout",
     "output_type": "stream",
     "text": [
      "shape: (191, 19)\n",
      "┌────────────┬────────────┬────────────┬───────────┬───┬───────────┬───────────┬───────────┬───────┐\n",
      "│ compactnes ┆ circularit ┆ distance_c ┆ radius_ra ┆ … ┆ skewness_ ┆ skewness_ ┆ hollows_r ┆ class │\n",
      "│ s          ┆ y          ┆ ircularity ┆ tio       ┆   ┆ about.1   ┆ about.2   ┆ atio      ┆ ---   │\n",
      "│ ---        ┆ ---        ┆ ---        ┆ ---       ┆   ┆ ---       ┆ ---       ┆ ---       ┆ str   │\n",
      "│ i64        ┆ i64        ┆ i64        ┆ i64       ┆   ┆ i64       ┆ i64       ┆ i64       ┆       │\n",
      "╞════════════╪════════════╪════════════╪═══════════╪═══╪═══════════╪═══════════╪═══════════╪═══════╡\n",
      "│ 104        ┆ 50         ┆ 106        ┆ 209       ┆ … ┆ 9         ┆ 188       ┆ 196       ┆ car   │\n",
      "│ 107        ┆ null       ┆ 106        ┆ 172       ┆ … ┆ 9         ┆ 181       ┆ 183       ┆ bus   │\n",
      "│ 104        ┆ 54         ┆ 100        ┆ 186       ┆ … ┆ 11        ┆ 185       ┆ 195       ┆ car   │\n",
      "│ 101        ┆ 56         ┆ 100        ┆ 215       ┆ … ┆ 5         ┆ 186       ┆ 193       ┆ car   │\n",
      "│ …          ┆ …          ┆ …          ┆ …         ┆ … ┆ …         ┆ …         ┆ …         ┆ …     │\n",
      "│ 106        ┆ 55         ┆ 96         ┆ 196       ┆ … ┆ 13        ┆ 186       ┆ 196       ┆ car   │\n",
      "│ 108        ┆ 49         ┆ 109        ┆ 204       ┆ … ┆ 11        ┆ 190       ┆ 199       ┆ car   │\n",
      "│ 111        ┆ 58         ┆ 105        ┆ 183       ┆ … ┆ 8         ┆ 181       ┆ 183       ┆ bus   │\n",
      "│ 106        ┆ 54         ┆ 101        ┆ 222       ┆ … ┆ 4         ┆ 187       ┆ 201       ┆ car   │\n",
      "└────────────┴────────────┴────────────┴───────────┴───┴───────────┴───────────┴───────────┴───────┘\n"
     ]
    }
   ],
   "source": [
    "import polars as pl\n",
    "\n",
    "df=pl.scan_csv(\"vehicle.csv\")#.collect()#.sink_parquet(\"vehicle.parquet\")\n",
    "#print(df.filter(pl.col('compactness')>100).collect())\n"
   ]
  },
  {
   "cell_type": "code",
   "execution_count": 35,
   "metadata": {},
   "outputs": [
    {
     "data": {
      "text/html": [
       "<div><style>\n",
       ".dataframe > thead > tr > th,\n",
       ".dataframe > tbody > tr > td {\n",
       "  text-align: right;\n",
       "  white-space: pre-wrap;\n",
       "}\n",
       "</style>\n",
       "<small>shape: (1, 19)</small><table border=\"1\" class=\"dataframe\"><thead><tr><th>compactness</th><th>circularity</th><th>distance_circularity</th><th>radius_ratio</th><th>pr.axis_aspect_ratio</th><th>max.length_aspect_ratio</th><th>scatter_ratio</th><th>elongatedness</th><th>pr.axis_rectangularity</th><th>max.length_rectangularity</th><th>scaled_variance</th><th>scaled_variance.1</th><th>scaled_radius_of_gyration</th><th>scaled_radius_of_gyration.1</th><th>skewness_about</th><th>skewness_about.1</th><th>skewness_about.2</th><th>hollows_ratio</th><th>class</th></tr><tr><td>i64</td><td>i64</td><td>i64</td><td>i64</td><td>i64</td><td>i64</td><td>i64</td><td>i64</td><td>i64</td><td>i64</td><td>i64</td><td>i64</td><td>i64</td><td>i64</td><td>i64</td><td>i64</td><td>i64</td><td>i64</td><td>str</td></tr></thead><tbody><tr><td>104</td><td>50</td><td>106</td><td>209</td><td>66</td><td>10</td><td>207</td><td>32</td><td>23</td><td>158</td><td>223</td><td>635</td><td>220</td><td>73</td><td>14</td><td>9</td><td>188</td><td>196</td><td>&quot;car&quot;</td></tr></tbody></table></div>"
      ],
      "text/plain": [
       "shape: (1, 19)\n",
       "┌────────────┬────────────┬────────────┬───────────┬───┬───────────┬───────────┬───────────┬───────┐\n",
       "│ compactnes ┆ circularit ┆ distance_c ┆ radius_ra ┆ … ┆ skewness_ ┆ skewness_ ┆ hollows_r ┆ class │\n",
       "│ s          ┆ y          ┆ ircularity ┆ tio       ┆   ┆ about.1   ┆ about.2   ┆ atio      ┆ ---   │\n",
       "│ ---        ┆ ---        ┆ ---        ┆ ---       ┆   ┆ ---       ┆ ---       ┆ ---       ┆ str   │\n",
       "│ i64        ┆ i64        ┆ i64        ┆ i64       ┆   ┆ i64       ┆ i64       ┆ i64       ┆       │\n",
       "╞════════════╪════════════╪════════════╪═══════════╪═══╪═══════════╪═══════════╪═══════════╪═══════╡\n",
       "│ 104        ┆ 50         ┆ 106        ┆ 209       ┆ … ┆ 9         ┆ 188       ┆ 196       ┆ car   │\n",
       "└────────────┴────────────┴────────────┴───────────┴───┴───────────┴───────────┴───────────┴───────┘"
      ]
     },
     "execution_count": 35,
     "metadata": {},
     "output_type": "execute_result"
    }
   ],
   "source": [
    "#pl.scan_csv(\"vehicle.csv\").filter(pl.col('compactness')>100).collect().head(1)#.to_dicts()"
   ]
  },
  {
   "cell_type": "code",
   "execution_count": 57,
   "metadata": {},
   "outputs": [
    {
     "ename": "ValueError",
     "evalue": "could not convert value 'Unknown' as a Literal",
     "output_type": "error",
     "traceback": [
      "\u001b[1;31m---------------------------------------------------------------------------\u001b[0m",
      "\u001b[1;31mValueError\u001b[0m                                Traceback (most recent call last)",
      "\u001b[1;32mc:\\Users\\diego\\OneDrive - Universidad Tecnológica de Panamá\\UTP 2023\\Work_test1\\jupyter.ipynb Cell 3\u001b[0m line \u001b[0;36m<cell line: 1>\u001b[1;34m()\u001b[0m\n\u001b[0;32m      <a href='vscode-notebook-cell:/c%3A/Users/diego/OneDrive%20-%20Universidad%20Tecnol%C3%B3gica%20de%20Panam%C3%A1/UTP%202023/Work_test1/jupyter.ipynb#W5sZmlsZQ%3D%3D?line=0'>1</a>\u001b[0m out \u001b[39m=\u001b[39m df\u001b[39m.\u001b[39mgroup_by(\u001b[39m\"\u001b[39m\u001b[39mclass\u001b[39m\u001b[39m\"\u001b[39m)\u001b[39m.\u001b[39magg(\n\u001b[1;32m----> <a href='vscode-notebook-cell:/c%3A/Users/diego/OneDrive%20-%20Universidad%20Tecnol%C3%B3gica%20de%20Panam%C3%A1/UTP%202023/Work_test1/jupyter.ipynb#W5sZmlsZQ%3D%3D?line=1'>2</a>\u001b[0m     pl\u001b[39m.\u001b[39;49mstd(pl\u001b[39m.\u001b[39;49mcol(\u001b[39m\"\u001b[39;49m\u001b[39mcompactness\u001b[39;49m\u001b[39m\"\u001b[39;49m)),\n\u001b[0;32m      <a href='vscode-notebook-cell:/c%3A/Users/diego/OneDrive%20-%20Universidad%20Tecnol%C3%B3gica%20de%20Panam%C3%A1/UTP%202023/Work_test1/jupyter.ipynb#W5sZmlsZQ%3D%3D?line=2'>3</a>\u001b[0m     pl\u001b[39m.\u001b[39mstd(pl\u001b[39m.\u001b[39mcol(\u001b[39m\"\u001b[39m\u001b[39mcircularity\u001b[39m\u001b[39m\"\u001b[39m)),\n\u001b[0;32m      <a href='vscode-notebook-cell:/c%3A/Users/diego/OneDrive%20-%20Universidad%20Tecnol%C3%B3gica%20de%20Panam%C3%A1/UTP%202023/Work_test1/jupyter.ipynb#W5sZmlsZQ%3D%3D?line=3'>4</a>\u001b[0m     pl\u001b[39m.\u001b[39mstd(pl\u001b[39m.\u001b[39mcol(\u001b[39m\"\u001b[39m\u001b[39mdistance_circularity\u001b[39m\u001b[39m\"\u001b[39m)),\n\u001b[0;32m      <a href='vscode-notebook-cell:/c%3A/Users/diego/OneDrive%20-%20Universidad%20Tecnol%C3%B3gica%20de%20Panam%C3%A1/UTP%202023/Work_test1/jupyter.ipynb#W5sZmlsZQ%3D%3D?line=4'>5</a>\u001b[0m     pl\u001b[39m.\u001b[39mstd(pl\u001b[39m.\u001b[39mcol(\u001b[39m\"\u001b[39m\u001b[39mradius_ratio\u001b[39m\u001b[39m\"\u001b[39m)),\n\u001b[0;32m      <a href='vscode-notebook-cell:/c%3A/Users/diego/OneDrive%20-%20Universidad%20Tecnol%C3%B3gica%20de%20Panam%C3%A1/UTP%202023/Work_test1/jupyter.ipynb#W5sZmlsZQ%3D%3D?line=5'>6</a>\u001b[0m     pl\u001b[39m.\u001b[39mstd(pl\u001b[39m.\u001b[39mcol(\u001b[39m\"\u001b[39m\u001b[39mpr.axis_aspect_ratio\u001b[39m\u001b[39m\"\u001b[39m)),\n\u001b[0;32m      <a href='vscode-notebook-cell:/c%3A/Users/diego/OneDrive%20-%20Universidad%20Tecnol%C3%B3gica%20de%20Panam%C3%A1/UTP%202023/Work_test1/jupyter.ipynb#W5sZmlsZQ%3D%3D?line=6'>7</a>\u001b[0m     pl\u001b[39m.\u001b[39mstd(pl\u001b[39m.\u001b[39mcol(\u001b[39m\"\u001b[39m\u001b[39mmax.length_aspect_ratio\u001b[39m\u001b[39m\"\u001b[39m)),\n\u001b[0;32m      <a href='vscode-notebook-cell:/c%3A/Users/diego/OneDrive%20-%20Universidad%20Tecnol%C3%B3gica%20de%20Panam%C3%A1/UTP%202023/Work_test1/jupyter.ipynb#W5sZmlsZQ%3D%3D?line=7'>8</a>\u001b[0m     pl\u001b[39m.\u001b[39mstd(pl\u001b[39m.\u001b[39mcol(\u001b[39m\"\u001b[39m\u001b[39mscatter_ratio\u001b[39m\u001b[39m\"\u001b[39m)),\n\u001b[0;32m      <a href='vscode-notebook-cell:/c%3A/Users/diego/OneDrive%20-%20Universidad%20Tecnol%C3%B3gica%20de%20Panam%C3%A1/UTP%202023/Work_test1/jupyter.ipynb#W5sZmlsZQ%3D%3D?line=8'>9</a>\u001b[0m     pl\u001b[39m.\u001b[39mstd(pl\u001b[39m.\u001b[39mcol(\u001b[39m\"\u001b[39m\u001b[39melongatedness\u001b[39m\u001b[39m\"\u001b[39m)),\n\u001b[0;32m     <a href='vscode-notebook-cell:/c%3A/Users/diego/OneDrive%20-%20Universidad%20Tecnol%C3%B3gica%20de%20Panam%C3%A1/UTP%202023/Work_test1/jupyter.ipynb#W5sZmlsZQ%3D%3D?line=9'>10</a>\u001b[0m     pl\u001b[39m.\u001b[39mstd(pl\u001b[39m.\u001b[39mcol(\u001b[39m\"\u001b[39m\u001b[39mpr.axis_rectangularity\u001b[39m\u001b[39m\"\u001b[39m)),\n\u001b[0;32m     <a href='vscode-notebook-cell:/c%3A/Users/diego/OneDrive%20-%20Universidad%20Tecnol%C3%B3gica%20de%20Panam%C3%A1/UTP%202023/Work_test1/jupyter.ipynb#W5sZmlsZQ%3D%3D?line=10'>11</a>\u001b[0m     pl\u001b[39m.\u001b[39mstd(pl\u001b[39m.\u001b[39mcol(\u001b[39m\"\u001b[39m\u001b[39mmax.length_rectangularity\u001b[39m\u001b[39m\"\u001b[39m)),\n\u001b[0;32m     <a href='vscode-notebook-cell:/c%3A/Users/diego/OneDrive%20-%20Universidad%20Tecnol%C3%B3gica%20de%20Panam%C3%A1/UTP%202023/Work_test1/jupyter.ipynb#W5sZmlsZQ%3D%3D?line=11'>12</a>\u001b[0m     pl\u001b[39m.\u001b[39mstd(pl\u001b[39m.\u001b[39mcol(\u001b[39m\"\u001b[39m\u001b[39mscaled_variance\u001b[39m\u001b[39m\"\u001b[39m)),\n\u001b[0;32m     <a href='vscode-notebook-cell:/c%3A/Users/diego/OneDrive%20-%20Universidad%20Tecnol%C3%B3gica%20de%20Panam%C3%A1/UTP%202023/Work_test1/jupyter.ipynb#W5sZmlsZQ%3D%3D?line=12'>13</a>\u001b[0m     pl\u001b[39m.\u001b[39mstd(pl\u001b[39m.\u001b[39mcol(\u001b[39m\"\u001b[39m\u001b[39mscaled_variance.1\u001b[39m\u001b[39m\"\u001b[39m)),\n\u001b[0;32m     <a href='vscode-notebook-cell:/c%3A/Users/diego/OneDrive%20-%20Universidad%20Tecnol%C3%B3gica%20de%20Panam%C3%A1/UTP%202023/Work_test1/jupyter.ipynb#W5sZmlsZQ%3D%3D?line=13'>14</a>\u001b[0m     pl\u001b[39m.\u001b[39mstd(pl\u001b[39m.\u001b[39mcol(\u001b[39m\"\u001b[39m\u001b[39mscaled_radius_of_gyration\u001b[39m\u001b[39m\"\u001b[39m)),\n\u001b[0;32m     <a href='vscode-notebook-cell:/c%3A/Users/diego/OneDrive%20-%20Universidad%20Tecnol%C3%B3gica%20de%20Panam%C3%A1/UTP%202023/Work_test1/jupyter.ipynb#W5sZmlsZQ%3D%3D?line=14'>15</a>\u001b[0m     pl\u001b[39m.\u001b[39mstd(pl\u001b[39m.\u001b[39mcol(\u001b[39m\"\u001b[39m\u001b[39mscaled_radius_of_gyration.1\u001b[39m\u001b[39m\"\u001b[39m)),\n\u001b[0;32m     <a href='vscode-notebook-cell:/c%3A/Users/diego/OneDrive%20-%20Universidad%20Tecnol%C3%B3gica%20de%20Panam%C3%A1/UTP%202023/Work_test1/jupyter.ipynb#W5sZmlsZQ%3D%3D?line=15'>16</a>\u001b[0m     pl\u001b[39m.\u001b[39mstd(pl\u001b[39m.\u001b[39mcol(\u001b[39m\"\u001b[39m\u001b[39mskewness_about\u001b[39m\u001b[39m\"\u001b[39m)),\n\u001b[0;32m     <a href='vscode-notebook-cell:/c%3A/Users/diego/OneDrive%20-%20Universidad%20Tecnol%C3%B3gica%20de%20Panam%C3%A1/UTP%202023/Work_test1/jupyter.ipynb#W5sZmlsZQ%3D%3D?line=16'>17</a>\u001b[0m     pl\u001b[39m.\u001b[39mstd(pl\u001b[39m.\u001b[39mcol(\u001b[39m\"\u001b[39m\u001b[39mskewness_about.1\u001b[39m\u001b[39m\"\u001b[39m)),\n\u001b[0;32m     <a href='vscode-notebook-cell:/c%3A/Users/diego/OneDrive%20-%20Universidad%20Tecnol%C3%B3gica%20de%20Panam%C3%A1/UTP%202023/Work_test1/jupyter.ipynb#W5sZmlsZQ%3D%3D?line=17'>18</a>\u001b[0m     pl\u001b[39m.\u001b[39mstd(pl\u001b[39m.\u001b[39mcol(\u001b[39m\"\u001b[39m\u001b[39mskewness_about.2\u001b[39m\u001b[39m\"\u001b[39m)),\n\u001b[0;32m     <a href='vscode-notebook-cell:/c%3A/Users/diego/OneDrive%20-%20Universidad%20Tecnol%C3%B3gica%20de%20Panam%C3%A1/UTP%202023/Work_test1/jupyter.ipynb#W5sZmlsZQ%3D%3D?line=18'>19</a>\u001b[0m     pl\u001b[39m.\u001b[39mstd(pl\u001b[39m.\u001b[39mcol(\u001b[39m\"\u001b[39m\u001b[39mhollows_ratio\u001b[39m\u001b[39m\"\u001b[39m))\n\u001b[0;32m     <a href='vscode-notebook-cell:/c%3A/Users/diego/OneDrive%20-%20Universidad%20Tecnol%C3%B3gica%20de%20Panam%C3%A1/UTP%202023/Work_test1/jupyter.ipynb#W5sZmlsZQ%3D%3D?line=19'>20</a>\u001b[0m )\n\u001b[0;32m     <a href='vscode-notebook-cell:/c%3A/Users/diego/OneDrive%20-%20Universidad%20Tecnol%C3%B3gica%20de%20Panam%C3%A1/UTP%202023/Work_test1/jupyter.ipynb#W5sZmlsZQ%3D%3D?line=21'>22</a>\u001b[0m \u001b[39mprint\u001b[39m(out)\n",
      "File \u001b[1;32m~\\AppData\\Local\\Packages\\PythonSoftwareFoundation.Python.3.9_qbz5n2kfra8p0\\LocalCache\\local-packages\\Python39\\site-packages\\polars\\functions\\lazy.py:207\u001b[0m, in \u001b[0;36mstd\u001b[1;34m(column, ddof)\u001b[0m\n\u001b[0;32m    202\u001b[0m     issue_deprecation_warning(\n\u001b[0;32m    203\u001b[0m         \u001b[39m\"\u001b[39m\u001b[39mpassing a Series to `std` is deprecated. Use `Series.std()` instead.\u001b[39m\u001b[39m\"\u001b[39m,\n\u001b[0;32m    204\u001b[0m         version\u001b[39m=\u001b[39m\u001b[39m\"\u001b[39m\u001b[39m0.18.8\u001b[39m\u001b[39m\"\u001b[39m,\n\u001b[0;32m    205\u001b[0m     )\n\u001b[0;32m    206\u001b[0m     \u001b[39mreturn\u001b[39;00m column\u001b[39m.\u001b[39mstd(ddof)\n\u001b[1;32m--> 207\u001b[0m \u001b[39mreturn\u001b[39;00m F\u001b[39m.\u001b[39;49mcol(column)\u001b[39m.\u001b[39mstd(ddof)\n",
      "File \u001b[1;32m~\\AppData\\Local\\Packages\\PythonSoftwareFoundation.Python.3.9_qbz5n2kfra8p0\\LocalCache\\local-packages\\Python39\\site-packages\\polars\\functions\\col.py:287\u001b[0m, in \u001b[0;36mColumnFactory.__new__\u001b[1;34m(cls, name, *more_names)\u001b[0m\n\u001b[0;32m    145\u001b[0m \u001b[39mdef\u001b[39;00m \u001b[39m__new__\u001b[39m(  \u001b[39m# type: ignore[misc]\u001b[39;00m\n\u001b[0;32m    146\u001b[0m     \u001b[39mcls\u001b[39m,\n\u001b[0;32m    147\u001b[0m     name: \u001b[39mstr\u001b[39m \u001b[39m|\u001b[39m PolarsDataType \u001b[39m|\u001b[39m Iterable[\u001b[39mstr\u001b[39m] \u001b[39m|\u001b[39m Iterable[PolarsDataType],\n\u001b[0;32m    148\u001b[0m     \u001b[39m*\u001b[39mmore_names: \u001b[39mstr\u001b[39m \u001b[39m|\u001b[39m PolarsDataType,\n\u001b[0;32m    149\u001b[0m ) \u001b[39m-\u001b[39m\u001b[39m>\u001b[39m Expr:\n\u001b[0;32m    150\u001b[0m     \u001b[39m\"\"\"\u001b[39;00m\n\u001b[0;32m    151\u001b[0m \u001b[39m    Create one or more column expressions representing column(s) in a DataFrame.\u001b[39;00m\n\u001b[0;32m    152\u001b[0m \n\u001b[1;32m   (...)\u001b[0m\n\u001b[0;32m    285\u001b[0m \n\u001b[0;32m    286\u001b[0m \u001b[39m    \"\"\"\u001b[39;00m\n\u001b[1;32m--> 287\u001b[0m     \u001b[39mreturn\u001b[39;00m _create_col(name, \u001b[39m*\u001b[39;49mmore_names)\n",
      "File \u001b[1;32m~\\AppData\\Local\\Packages\\PythonSoftwareFoundation.Python.3.9_qbz5n2kfra8p0\\LocalCache\\local-packages\\Python39\\site-packages\\polars\\functions\\col.py:42\u001b[0m, in \u001b[0;36m_create_col\u001b[1;34m(name, *more_names)\u001b[0m\n\u001b[0;32m     40\u001b[0m \u001b[39mif\u001b[39;00m \u001b[39misinstance\u001b[39m(name, \u001b[39mstr\u001b[39m):\n\u001b[0;32m     41\u001b[0m     \u001b[39mreturn\u001b[39;00m wrap_expr(plr\u001b[39m.\u001b[39mcol(name))\n\u001b[1;32m---> 42\u001b[0m \u001b[39melif\u001b[39;00m is_polars_dtype(name):\n\u001b[0;32m     43\u001b[0m     \u001b[39mreturn\u001b[39;00m wrap_expr(plr\u001b[39m.\u001b[39mdtype_cols([name]))\n\u001b[0;32m     44\u001b[0m \u001b[39melif\u001b[39;00m \u001b[39misinstance\u001b[39m(name, Iterable):\n",
      "File \u001b[1;32m~\\AppData\\Local\\Packages\\PythonSoftwareFoundation.Python.3.9_qbz5n2kfra8p0\\LocalCache\\local-packages\\Python39\\site-packages\\polars\\datatypes\\convert.py:155\u001b[0m, in \u001b[0;36mis_polars_dtype\u001b[1;34m(dtype, include_unknown)\u001b[0m\n\u001b[0;32m    153\u001b[0m \u001b[39m\"\"\"Indicate whether the given input is a Polars dtype, or dtype specialisation.\"\"\"\u001b[39;00m\n\u001b[0;32m    154\u001b[0m \u001b[39mtry\u001b[39;00m:\n\u001b[1;32m--> 155\u001b[0m     \u001b[39mif\u001b[39;00m dtype \u001b[39m==\u001b[39;49m Unknown:\n\u001b[0;32m    156\u001b[0m         \u001b[39m# does not represent a realisable dtype, so ignore by default\u001b[39;00m\n\u001b[0;32m    157\u001b[0m         \u001b[39mreturn\u001b[39;00m include_unknown\n\u001b[0;32m    158\u001b[0m     \u001b[39melse\u001b[39;00m:\n",
      "File \u001b[1;32m~\\AppData\\Local\\Packages\\PythonSoftwareFoundation.Python.3.9_qbz5n2kfra8p0\\LocalCache\\local-packages\\Python39\\site-packages\\polars\\expr\\expr.py:165\u001b[0m, in \u001b[0;36mExpr.__eq__\u001b[1;34m(self, other)\u001b[0m\n\u001b[0;32m    164\u001b[0m \u001b[39mdef\u001b[39;00m \u001b[39m__eq__\u001b[39m(\u001b[39mself\u001b[39m, other: Any) \u001b[39m-\u001b[39m\u001b[39m>\u001b[39m Self:  \u001b[39m# type: ignore[override]\u001b[39;00m\n\u001b[1;32m--> 165\u001b[0m     \u001b[39mreturn\u001b[39;00m \u001b[39mself\u001b[39m\u001b[39m.\u001b[39m_from_pyexpr(\u001b[39mself\u001b[39m\u001b[39m.\u001b[39m_pyexpr\u001b[39m.\u001b[39meq(\u001b[39mself\u001b[39;49m\u001b[39m.\u001b[39;49m_to_expr(other)\u001b[39m.\u001b[39m_pyexpr))\n",
      "File \u001b[1;32m~\\AppData\\Local\\Packages\\PythonSoftwareFoundation.Python.3.9_qbz5n2kfra8p0\\LocalCache\\local-packages\\Python39\\site-packages\\polars\\expr\\expr.py:133\u001b[0m, in \u001b[0;36mExpr._to_expr\u001b[1;34m(self, other)\u001b[0m\n\u001b[0;32m    131\u001b[0m \u001b[39mif\u001b[39;00m \u001b[39misinstance\u001b[39m(other, Expr):\n\u001b[0;32m    132\u001b[0m     \u001b[39mreturn\u001b[39;00m other\n\u001b[1;32m--> 133\u001b[0m \u001b[39mreturn\u001b[39;00m F\u001b[39m.\u001b[39;49mlit(other)\n",
      "File \u001b[1;32m~\\AppData\\Local\\Packages\\PythonSoftwareFoundation.Python.3.9_qbz5n2kfra8p0\\LocalCache\\local-packages\\Python39\\site-packages\\polars\\functions\\lit.py:160\u001b[0m, in \u001b[0;36mlit\u001b[1;34m(value, dtype, allow_object)\u001b[0m\n\u001b[0;32m    157\u001b[0m \u001b[39mexcept\u001b[39;00m \u001b[39mAttributeError\u001b[39;00m:\n\u001b[0;32m    158\u001b[0m     item \u001b[39m=\u001b[39m value\n\u001b[1;32m--> 160\u001b[0m \u001b[39mreturn\u001b[39;00m wrap_expr(plr\u001b[39m.\u001b[39;49mlit(item, allow_object))\n",
      "\u001b[1;31mValueError\u001b[0m: could not convert value 'Unknown' as a Literal"
     ]
    }
   ],
   "source": [
    "\n",
    "out = df.group_by(\"class\").agg(\n",
    "    pl.std(pl.col(\"compactness\")),\n",
    "    pl.std(pl.col(\"circularity\")),\n",
    "    pl.std(pl.col(\"distance_circularity\")),\n",
    "    pl.std(pl.col(\"radius_ratio\")),\n",
    "    pl.std(pl.col(\"pr.axis_aspect_ratio\")),\n",
    "    pl.std(pl.col(\"max.length_aspect_ratio\")),\n",
    "    pl.std(pl.col(\"scatter_ratio\")),\n",
    "    pl.std(pl.col(\"elongatedness\")),\n",
    "    pl.std(pl.col(\"pr.axis_rectangularity\")),\n",
    "    pl.std(pl.col(\"max.length_rectangularity\")),\n",
    "    pl.std(pl.col(\"scaled_variance\")),\n",
    "    pl.std(pl.col(\"scaled_variance.1\")),\n",
    "    pl.std(pl.col(\"scaled_radius_of_gyration\")),\n",
    "    pl.std(pl.col(\"scaled_radius_of_gyration.1\")),\n",
    "    pl.std(pl.col(\"skewness_about\")),\n",
    "    pl.std(pl.col(\"skewness_about.1\")),\n",
    "    pl.std(pl.col(\"skewness_about.2\")),\n",
    "    pl.std(pl.col(\"hollows_ratio\"))\n",
    ")\n",
    "\n",
    "print(out)"
   ]
  }
 ],
 "metadata": {
  "kernelspec": {
   "display_name": "Python 3",
   "language": "python",
   "name": "python3"
  },
  "language_info": {
   "codemirror_mode": {
    "name": "ipython",
    "version": 3
   },
   "file_extension": ".py",
   "mimetype": "text/x-python",
   "name": "python",
   "nbconvert_exporter": "python",
   "pygments_lexer": "ipython3",
   "version": "3.9.13"
  }
 },
 "nbformat": 4,
 "nbformat_minor": 2
}
