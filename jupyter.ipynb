{
 "cells": [
  {
   "cell_type": "code",
   "execution_count": 5,
   "metadata": {},
   "outputs": [
    {
     "name": "stdout",
     "output_type": "stream",
     "text": [
      "shape: (846, 19)\n",
      "┌────────────┬────────────┬────────────┬───────────┬───┬───────────┬───────────┬───────────┬───────┐\n",
      "│ compactnes ┆ circularit ┆ distance_c ┆ radius_ra ┆ … ┆ skewness_ ┆ skewness_ ┆ hollows_r ┆ class │\n",
      "│ s          ┆ y          ┆ ircularity ┆ tio       ┆   ┆ about.1   ┆ about.2   ┆ atio      ┆ ---   │\n",
      "│ ---        ┆ ---        ┆ ---        ┆ ---       ┆   ┆ ---       ┆ ---       ┆ ---       ┆ str   │\n",
      "│ i64        ┆ i64        ┆ i64        ┆ i64       ┆   ┆ i64       ┆ i64       ┆ i64       ┆       │\n",
      "╞════════════╪════════════╪════════════╪═══════════╪═══╪═══════════╪═══════════╪═══════════╪═══════╡\n",
      "│ 95         ┆ 48         ┆ 83         ┆ 178       ┆ … ┆ 16        ┆ 187       ┆ 197       ┆ van   │\n",
      "│ 91         ┆ 41         ┆ 84         ┆ 141       ┆ … ┆ 14        ┆ 189       ┆ 199       ┆ van   │\n",
      "│ 104        ┆ 50         ┆ 106        ┆ 209       ┆ … ┆ 9         ┆ 188       ┆ 196       ┆ car   │\n",
      "│ 93         ┆ 41         ┆ 82         ┆ 159       ┆ … ┆ 10        ┆ 199       ┆ 207       ┆ van   │\n",
      "│ …          ┆ …          ┆ …          ┆ …         ┆ … ┆ …         ┆ …         ┆ …         ┆ …     │\n",
      "│ 89         ┆ 46         ┆ 84         ┆ 163       ┆ … ┆ 20        ┆ 186       ┆ 197       ┆ van   │\n",
      "│ 106        ┆ 54         ┆ 101        ┆ 222       ┆ … ┆ 4         ┆ 187       ┆ 201       ┆ car   │\n",
      "│ 86         ┆ 36         ┆ 78         ┆ 146       ┆ … ┆ 25        ┆ 190       ┆ 195       ┆ car   │\n",
      "│ 85         ┆ 36         ┆ 66         ┆ 123       ┆ … ┆ 18        ┆ 186       ┆ 190       ┆ van   │\n",
      "└────────────┴────────────┴────────────┴───────────┴───┴───────────┴───────────┴───────────┴───────┘\n"
     ]
    }
   ],
   "source": [
    "import polars as pl\n",
    "\n",
    "df=pl.scan_csv(\"vehicle.csv\").collect()#.sink_parquet(\"vehicle.parquet\")\n",
    "#print(df.filter(pl.col('compactness')>100).collect()))\n",
    "print(df)"
   ]
  },
  {
   "cell_type": "code",
   "execution_count": 6,
   "metadata": {},
   "outputs": [],
   "source": [
    "#pl.scan_csv(\"vehicle.csv\").filter(pl.col('circularity')<0).collect()#.head(1)#.to_dicts()"
   ]
  },
  {
   "cell_type": "code",
   "execution_count": 7,
   "metadata": {},
   "outputs": [
    {
     "name": "stdout",
     "output_type": "stream",
     "text": [
      "shape: (813, 19)\n",
      "┌────────────┬────────────┬────────────┬───────────┬───┬───────────┬───────────┬───────────┬───────┐\n",
      "│ compactnes ┆ circularit ┆ distance_c ┆ radius_ra ┆ … ┆ skewness_ ┆ skewness_ ┆ hollows_r ┆ class │\n",
      "│ s          ┆ y          ┆ ircularity ┆ tio       ┆   ┆ about.1   ┆ about.2   ┆ atio      ┆ ---   │\n",
      "│ ---        ┆ ---        ┆ ---        ┆ ---       ┆   ┆ ---       ┆ ---       ┆ ---       ┆ str   │\n",
      "│ i64        ┆ i64        ┆ i64        ┆ i64       ┆   ┆ i64       ┆ i64       ┆ i64       ┆       │\n",
      "╞════════════╪════════════╪════════════╪═══════════╪═══╪═══════════╪═══════════╪═══════════╪═══════╡\n",
      "│ 95         ┆ 48         ┆ 83         ┆ 178       ┆ … ┆ 16        ┆ 187       ┆ 197       ┆ van   │\n",
      "│ 91         ┆ 41         ┆ 84         ┆ 141       ┆ … ┆ 14        ┆ 189       ┆ 199       ┆ van   │\n",
      "│ 104        ┆ 50         ┆ 106        ┆ 209       ┆ … ┆ 9         ┆ 188       ┆ 196       ┆ car   │\n",
      "│ 93         ┆ 41         ┆ 82         ┆ 159       ┆ … ┆ 10        ┆ 199       ┆ 207       ┆ van   │\n",
      "│ …          ┆ …          ┆ …          ┆ …         ┆ … ┆ …         ┆ …         ┆ …         ┆ …     │\n",
      "│ 89         ┆ 46         ┆ 84         ┆ 163       ┆ … ┆ 20        ┆ 186       ┆ 197       ┆ van   │\n",
      "│ 106        ┆ 54         ┆ 101        ┆ 222       ┆ … ┆ 4         ┆ 187       ┆ 201       ┆ car   │\n",
      "│ 86         ┆ 36         ┆ 78         ┆ 146       ┆ … ┆ 25        ┆ 190       ┆ 195       ┆ car   │\n",
      "│ 85         ┆ 36         ┆ 66         ┆ 123       ┆ … ┆ 18        ┆ 186       ┆ 190       ┆ van   │\n",
      "└────────────┴────────────┴────────────┴───────────┴───┴───────────┴───────────┴───────────┴───────┘\n"
     ]
    }
   ],
   "source": [
    "df_dropped = df.drop_nulls()\n",
    "print(df_dropped)"
   ]
  },
  {
   "cell_type": "code",
   "execution_count": 8,
   "metadata": {},
   "outputs": [
    {
     "name": "stdout",
     "output_type": "stream",
     "text": [
      "shape: (3, 19)\n",
      "┌───────┬────────────┬────────────┬────────────┬───┬───────────┬───────────┬───────────┬───────────┐\n",
      "│ class ┆ compactnes ┆ circularit ┆ distance_c ┆ … ┆ skewness_ ┆ skewness_ ┆ skewness_ ┆ hollows_r │\n",
      "│ ---   ┆ s          ┆ y          ┆ ircularity ┆   ┆ about     ┆ about.1   ┆ about.2   ┆ atio      │\n",
      "│ str   ┆ ---        ┆ ---        ┆ ---        ┆   ┆ ---       ┆ ---       ┆ ---       ┆ ---       │\n",
      "│       ┆ f64        ┆ f64        ┆ f64        ┆   ┆ f64       ┆ f64       ┆ f64       ┆ f64       │\n",
      "╞═══════╪════════════╪════════════╪════════════╪═══╪═══════════╪═══════════╪═══════════╪═══════════╡\n",
      "│ car   ┆ 8.776112   ┆ 7.010804   ┆ 16.314312  ┆ … ┆ 5.53797   ┆ 10.074969 ┆ 5.301854  ┆ 6.270685  │\n",
      "│ bus   ┆ 8.5156     ┆ 4.938663   ┆ 11.655427  ┆ … ┆ 3.188709  ┆ 6.931229  ┆ 7.329904  ┆ 7.935621  │\n",
      "│ van   ┆ 3.799439   ┆ 4.093618   ┆ 10.83035   ┆ … ┆ 4.634474  ┆ 6.275518  ┆ 6.390653  ┆ 7.36167   │\n",
      "└───────┴────────────┴────────────┴────────────┴───┴───────────┴───────────┴───────────┴───────────┘\n"
     ]
    }
   ],
   "source": [
    "\n",
    "deviation = df_dropped.group_by(\"class\").agg(\n",
    "    pl.col(\"compactness\").std(),\n",
    "    pl.col(\"circularity\").std(),\n",
    "    pl.col(\"distance_circularity\").std(),\n",
    "    pl.col(\"radius_ratio\").std(),\n",
    "    pl.col(\"pr.axis_aspect_ratio\").std(),\n",
    "    pl.col(\"max.length_aspect_ratio\").std(),\n",
    "    pl.col(\"scatter_ratio\").std(),\n",
    "    pl.col(\"elongatedness\").std(),\n",
    "    pl.col(\"pr.axis_rectangularity\").std(),\n",
    "    pl.col(\"max.length_rectangularity\").std(),\n",
    "    pl.col(\"scaled_variance\").std(),\n",
    "    pl.col(\"scaled_variance.1\").std(),\n",
    "    pl.col(\"scaled_radius_of_gyration\").std(),\n",
    "    pl.col(\"scaled_radius_of_gyration.1\").std(),\n",
    "    pl.col(\"skewness_about\").std(),\n",
    "    pl.col(\"skewness_about.1\").std(),\n",
    "    pl.col(\"skewness_about.2\").std(),\n",
    "    pl.col(\"hollows_ratio\").std(),\n",
    ")\n",
    "\n",
    "print(deviation)"
   ]
  },
  {
   "cell_type": "code",
   "execution_count": 9,
   "metadata": {},
   "outputs": [
    {
     "name": "stdout",
     "output_type": "stream",
     "text": [
      "[{'class': 'car', 'compactness': 96.24455205811138, 'circularity': 46.07990314769976, 'distance_circularity': 89.0314769975787, 'radius_ratio': 180.83292978208232, 'pr.axis_aspect_ratio': 61.02179176755448, 'max.length_aspect_ratio': 8.847457627118644, 'scatter_ratio': 181.18401937046005, 'elongatedness': 38.03874092009685, 'pr.axis_rectangularity': 21.53995157384988, 'max.length_rectangularity': 150.02421307506054, 'scaled_variance': 198.11864406779662, 'scaled_variance.1': 502.53026634382564, 'scaled_radius_of_gyration': 179.73849878934624, 'scaled_radius_of_gyration.1': 69.953995157385, 'skewness_about': 7.13317191283293, 'skewness_about.1': 15.225181598062955, 'skewness_about.2': 189.4866828087167, 'hollows_ratio': 197.60774818401936}, {'class': 'van', 'compactness': 90.46666666666667, 'circularity': 42.00512820512821, 'distance_circularity': 73.08717948717948, 'radius_ratio': 146.88717948717948, 'pr.axis_aspect_ratio': 61.241025641025644, 'max.length_aspect_ratio': 9.717948717948717, 'scatter_ratio': 141.2974358974359, 'elongatedness': 48.02051282051282, 'pr.axis_rectangularity': 18.55897435897436, 'max.length_rectangularity': 145.09230769230768, 'scaled_variance': 163.89743589743588, 'scaled_variance.1': 297.2, 'scaled_radius_of_gyration': 156.95897435897436, 'scaled_radius_of_gyration.1': 72.87692307692308, 'skewness_about': 6.4, 'skewness_about.1': 9.733333333333333, 'skewness_about.2': 188.87692307692308, 'hollows_ratio': 196.04102564102564}, {'class': 'bus', 'compactness': 91.47804878048781, 'circularity': 44.892682926829266, 'distance_circularity': 76.4829268292683, 'radius_ratio': 166.58536585365854, 'pr.axis_aspect_ratio': 63.8, 'max.length_aspect_ratio': 7.034146341463415, 'scatter_ratio': 169.0731707317073, 'elongatedness': 40.24390243902439, 'pr.axis_rectangularity': 20.482926829268294, 'max.length_rectangularity': 146.25853658536585, 'scaled_variance': 192.0390243902439, 'scaled_variance.1': 443.4439024390244, 'scaled_radius_of_gyration': 179.64878048780488, 'scaled_radius_of_gyration.1': 76.87317073170732, 'skewness_about': 4.7317073170731705, 'skewness_about.1': 10.385365853658536, 'skewness_about.2': 188.05365853658537, 'hollows_ratio': 191.64878048780488}]\n"
     ]
    }
   ],
   "source": [
    "mean = df_dropped.group_by(\"class\").agg(\n",
    "    pl.col(\"compactness\").mean(),\n",
    "    pl.col(\"circularity\").mean(),\n",
    "    pl.col(\"distance_circularity\").mean(),\n",
    "    pl.col(\"radius_ratio\").mean(),\n",
    "    pl.col(\"pr.axis_aspect_ratio\").mean(),\n",
    "\n",
    "    pl.col(\"max.length_aspect_ratio\").mean(),\n",
    "    pl.col(\"scatter_ratio\").mean(),\n",
    "    pl.col(\"elongatedness\").mean(),\n",
    "    pl.col(\"pr.axis_rectangularity\").mean(),\n",
    "    pl.col(\"max.length_rectangularity\").mean(),\n",
    "\n",
    "    pl.col(\"scaled_variance\").mean(),\n",
    "    pl.col(\"scaled_variance.1\").mean(),\n",
    "    pl.col(\"scaled_radius_of_gyration\").mean(),\n",
    "    pl.col(\"scaled_radius_of_gyration.1\").mean(),\n",
    "    pl.col(\"skewness_about\").mean(),\n",
    "    \n",
    "    pl.col(\"skewness_about.1\").mean(),\n",
    "    pl.col(\"skewness_about.2\").mean(),\n",
    "    pl.col(\"hollows_ratio\").mean(),\n",
    ")\n",
    "meanDic = mean.to_dicts()\n",
    "print(meanDic)"
   ]
  }
 ],
 "metadata": {
  "kernelspec": {
   "display_name": "Python 3",
   "language": "python",
   "name": "python3"
  },
  "language_info": {
   "codemirror_mode": {
    "name": "ipython",
    "version": 3
   },
   "file_extension": ".py",
   "mimetype": "text/x-python",
   "name": "python",
   "nbconvert_exporter": "python",
   "pygments_lexer": "ipython3",
   "version": "3.9.13"
  }
 },
 "nbformat": 4,
 "nbformat_minor": 2
}
